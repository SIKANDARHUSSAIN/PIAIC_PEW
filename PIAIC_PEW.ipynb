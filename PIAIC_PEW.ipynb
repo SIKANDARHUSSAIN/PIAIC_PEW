{
  "nbformat": 4,
  "nbformat_minor": 0,
  "metadata": {
    "colab": {
      "provenance": [],
      "authorship_tag": "ABX9TyMUTOMk417aIlh+L0QdQ9Hy",
      "include_colab_link": true
    },
    "kernelspec": {
      "name": "python3",
      "display_name": "Python 3"
    },
    "language_info": {
      "name": "python"
    }
  },
  "cells": [
    {
      "cell_type": "markdown",
      "metadata": {
        "id": "view-in-github",
        "colab_type": "text"
      },
      "source": [
        "<a href=\"https://colab.research.google.com/github/SIKANDARHUSSAIN/PIAIC_PEW/blob/main/PIAIC_PEW.ipynb\" target=\"_parent\"><img src=\"https://colab.research.google.com/assets/colab-badge.svg\" alt=\"Open In Colab\"/></a>"
      ]
    },
    {
      "cell_type": "markdown",
      "source": [],
      "metadata": {
        "id": "F1SPQNmWFN28"
      }
    },
    {
      "cell_type": "code",
      "execution_count": null,
      "metadata": {
        "id": "XI0NwhF98Uxv"
      },
      "outputs": [],
      "source": [
        "# prompt: print (\"Hello World\")\n",
        "\n",
        "print(\"Hello World\")\n"
      ]
    },
    {
      "cell_type": "code",
      "source": [
        "# prompt: write a function to display list of fruits\n",
        "\n",
        "def display_fruits():\n",
        "  fruits = [\"apple\", \"banana\", \"cherry\"]\n",
        "  for fruit in fruits:\n",
        "    print(fruit)\n",
        "\n",
        "display_fruits()\n"
      ],
      "metadata": {
        "id": "SweVoZpKE6Lm"
      },
      "execution_count": null,
      "outputs": []
    }
  ]
}